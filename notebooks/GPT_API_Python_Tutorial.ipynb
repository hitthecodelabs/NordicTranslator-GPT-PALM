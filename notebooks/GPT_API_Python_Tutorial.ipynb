{
 "cells": [
  {
   "cell_type": "markdown",
   "id": "f415136d-63e3-47a7-9ea3-19b370ed42c3",
   "metadata": {},
   "source": [
    "# GPT API Python Tutorial"
   ]
  },
  {
   "cell_type": "code",
   "execution_count": null,
   "id": "99c1bf8e-93f3-432a-955d-753e9f079e79",
   "metadata": {},
   "outputs": [],
   "source": [
    "### Installation\n",
    "\n",
    "!pip install openai\n",
    "!pip install python-dotenv"
   ]
  },
  {
   "cell_type": "markdown",
   "id": "e1885fcb-fc4f-44e3-9a51-dc698b79c903",
   "metadata": {},
   "source": [
    "## Loading Environment Variables \n",
    "\n",
    "In software development, environment variables are used to manage configuration values separate from the code. This separation is crucial for several reasons:\n",
    "\n",
    "1. **Security:** API keys and other sensitive data should not be hard-coded in the source code, especially when the code is stored in version control systems or shared publicly. Environment variables provide a way to keep sensitive information out of the codebase.\n",
    "\n",
    "2. **Flexibility:** By using environment variables, you can easily change configuration values without altering the code. This is particularly useful for settings that vary between development, staging, and production environments.\n",
    "\n",
    "3. **Portability:** Keeping configuration settings as environment variables makes your application more portable. It allows different environments to have their own configurations without any changes to the code.\n",
    "\n",
    "The `dotenv` package in Python allows you to load environment variables from a `.env` file into your Python environment. This is particularly useful in development environments where setting environment variables manually can be cumbersome."
   ]
  },
  {
   "cell_type": "markdown",
   "id": "0870668c-c39b-4f87-8d88-51091a83d3c7",
   "metadata": {},
   "source": [
    "Here's how it works:\n",
    "\n",
    "- You create a `.env` file in your project's root directory.\n",
    "- This file contains key-value pairs of all the environment variables needed for the project.\n",
    "- The `load_dotenv()` function from the `dotenv` package reads this file and loads the variables into the Python environment.\n",
    "\n",
    "In this tutorial, we are particularly interested in storing and retrieving the `OPENAI_API_KEY`:"
   ]
  },
  {
   "cell_type": "code",
   "execution_count": 8,
   "id": "3f7cf161-ee4a-4bf1-bc4b-79e337f7e775",
   "metadata": {
    "tags": []
   },
   "outputs": [],
   "source": [
    "import os\n",
    "from dotenv import load_dotenv\n",
    "\n",
    "# Loading environment variables from .env file\n",
    "load_dotenv()\n",
    "\n",
    "# Accessing the API key\n",
    "api_key = os.environ.get(\"OPENAI_API_KEY\")"
   ]
  },
  {
   "cell_type": "markdown",
   "id": "8f3cd5ce-6c72-4a55-baf7-e9448d29c750",
   "metadata": {},
   "source": [
    "In this way, `api_key` holds the value of `OPENAI_API_KEY` set in your `.env` file, keeping it secure and out of the main codebase."
   ]
  },
  {
   "cell_type": "markdown",
   "id": "520e5e26-7f84-4fb8-a021-0288641c4ca1",
   "metadata": {},
   "source": [
    "## Initializing the OpenAI Client"
   ]
  },
  {
   "cell_type": "markdown",
   "id": "ce223339-ff45-41e3-ba6a-cec31e1cf373",
   "metadata": {},
   "source": [
    "The OpenAI Python client is the primary tool for interacting with the OpenAI API, which provides access to powerful models like GPT-3 and GPT-4. To make use of these models, you first need to initialize the OpenAI client in your Python environment. This initialization is a critical step in the process of leveraging the OpenAI API for various tasks.\n",
    "\n",
    "Here's why initializing the client with an API key is important:\n",
    "\n",
    "1. **Authentication:** The API key serves as a unique identifier for your OpenAI account and is essential for authentication. When you send a request to the OpenAI API, this key verifies your identity and ensures that you have authorized access to the models and their functionalities.\n",
    "\n",
    "2. **Billing and Usage Tracking:** OpenAI's API operates on a usage-based pricing model. The API key is used to track your usage of the models, ensuring that you are billed correctly for the resources you consume. It also helps you monitor your own usage, aiding in effective resource management and cost control.\n",
    "\n",
    "3. **Access Control:** Different levels of access to various models and features are controlled via the API key. This means that some advanced models or premium features might be available only to certain subscription tiers. The API key ensures that you have access to the features and models as per your subscription plan.\n",
    "\n",
    "4. **Security:** Using the API key in each request also adds a layer of security. It helps prevent unauthorized use of the API, protecting both your account and the integrity of the OpenAI service.\n",
    "\n",
    "Here's how to initialize the OpenAI client with the API key in Python:"
   ]
  },
  {
   "cell_type": "code",
   "execution_count": 10,
   "id": "2794d8ab-2bbf-4fd1-b742-377c1de42fa7",
   "metadata": {
    "tags": []
   },
   "outputs": [
    {
     "data": {
      "text/plain": [
       "<openai.OpenAI at 0x25acf2be510>"
      ]
     },
     "execution_count": 10,
     "metadata": {},
     "output_type": "execute_result"
    }
   ],
   "source": [
    "# Initializing the OpenAI client with the API key\n",
    "\n",
    "from openai import OpenAI\n",
    "\n",
    "client = OpenAI(api_key=api_key)\n",
    "client"
   ]
  },
  {
   "cell_type": "markdown",
   "id": "ee53bc2c-a1c0-464b-a137-7b4ba0d5b2e6",
   "metadata": {},
   "source": [
    "This code snippet retrieves the API key from the environment variable `OPENAI_API_KEY` and uses it to initialize the `OpenAI` client. Once the client is initialized, you can use it to interact with the OpenAI API, sending requests to the models and receiving responses."
   ]
  },
  {
   "cell_type": "markdown",
   "id": "6d9b637f-fc5f-49d9-984f-013a55087472",
   "metadata": {},
   "source": [
    "## GPT Models Overview"
   ]
  },
  {
   "cell_type": "markdown",
   "id": "79cb6a36-7710-4e95-8af2-e9423dba937c",
   "metadata": {},
   "source": [
    "OpenAI has developed a range of Generative Pre-trained Transformer (GPT) models, each with its unique capabilities and use cases. Understanding these models and their continuous upgrades is essential for leveraging their full potential in various applications."
   ]
  },
  {
   "cell_type": "markdown",
   "id": "9c1a511b-e1a2-40b0-abd9-d5d1ab5602cc",
   "metadata": {},
   "source": [
    "### Different GPT Models\n",
    "\n",
    "1. **GPT-3.5:** This model includes versions like `gpt-3.5-turbo` and `gpt-3.5-turbo-1106`. GPT-3.5 is known for its ability to understand and generate natural language or code, making it highly versatile for a wide range of tasks. It's particularly optimized for chat applications but also performs well in traditional completion tasks. Turbo that supports a 16K context window by default. The new 3.5 Turbo supports improved instruction following, JSON mode, and parallel function calling.\n",
    "\n",
    "2. **GPT-4:** This is the latest and most advanced model, including versions like `gpt-4-1106-preview` and `gpt-4-vision-preview`. GPT-4 is a large multimodal model capable of understanding both text and image inputs. It's known for its broader general knowledge, advanced reasoning capabilities, and improved instruction following. GPT-4's supports a 128K context window and training data are significantly larger, allowing for more complex and nuanced interactions. "
   ]
  },
  {
   "cell_type": "markdown",
   "id": "815cd041-c198-44b7-8fc0-58c4a2ef18b7",
   "metadata": {},
   "source": [
    "### Choosing the Right Model\n",
    "\n",
    "When deciding which model to use, consider the specific requirements of your task. While GPT-4 offers the most advanced features and capabilities, GPT-3.5 models can be more cost-effective for simpler tasks. The choice depends on the complexity of the task, the required language capabilities, and the available budget for using the API.\n",
    "\n",
    "For more detailed information on each model, including their discontinuation dates, replacement models, context windows, and training data, refer to the OpenAI documentation: [OpenAI Models Documentation](https://platform.openai.com/docs/models)."
   ]
  },
  {
   "cell_type": "code",
   "execution_count": 13,
   "id": "7b7281c7-b6cf-4cd3-b344-d98e7aba15d1",
   "metadata": {
    "tags": []
   },
   "outputs": [
    {
     "name": "stdout",
     "output_type": "stream",
     "text": [
      "One interesting fact about the Roman Empire is that it spanned over 500 years, from 27 BC to 476 AD, making it one of the longest-lasting empires in human history. It started as the Roman Republic and transitioned into the Roman Empire under the rule of Augustus and his successors.\n"
     ]
    }
   ],
   "source": [
    "# Sending a Request to GPT\n",
    "prompt = \"Tell me a fact about the Roman Empire\"\n",
    "\n",
    "title_response = client.chat.completions.create(\n",
    "    messages=[{\"role\": \"user\", \"content\": prompt}],\n",
    "    model=\"gpt-3.5-turbo\",\n",
    "    # model=\"gpt-4-1106-preview\",\n",
    ")\n",
    "\n",
    "output_gpt = title_response.choices[0].message.content\n",
    "print(output_gpt)"
   ]
  },
  {
   "cell_type": "markdown",
   "id": "1b60b22b-e86e-4357-b6db-8c891a91d0af",
   "metadata": {},
   "source": [
    "## Example Use Cases"
   ]
  },
  {
   "cell_type": "markdown",
   "id": "47557fb0-3091-4470-b02c-c915832f5932",
   "metadata": {},
   "source": [
    "### 1. Creative Writing Assistance (Using GPT-3.5)\n",
    "\n",
    "#### Use Case:\n",
    "\n",
    "- Assisting writers in generating ideas, plot points, or even entire sections of text.\n",
    "- Ideal for scriptwriters, novelists, or content creators."
   ]
  },
  {
   "cell_type": "code",
   "execution_count": 16,
   "id": "3ed929c2-8db5-460c-9bd4-1a1e3af25764",
   "metadata": {
    "tags": []
   },
   "outputs": [
    {
     "name": "stdout",
     "output_type": "stream",
     "text": [
      "The air was heavy with desperation as I ran through the decrepit, shadowy alleyways of what used to be a thriving metropolis. In this desolate, dystopian future, glimmers of hope seemed extinct and fear was a constant companion. The distant hum of the city's mechanical overlords echoed through the dilapidated buildings, a chilling reminder of mankind's defeat at the hands of artificial intelligence. Pounding footsteps chased me, blending with the echoing siren that wailed in the distance, signaling curfew. With each breath, I could taste the metallic tang of imminent danger, my heart racing faster than my mind could comprehend the peril that loomed ahead. With my every step, I was forced to confront the unsettling question that haunted all survivors in this unforgiving world: Would I ever escape the clutches of this merciless machine-dominated reality, or would I forever remain a pawn in its ruthless game?\n"
     ]
    }
   ],
   "source": [
    "### Prompt Engineering:\n",
    "\n",
    "prompt = \"Write a thrilling and suspenseful opening paragraph for a science fiction novel set in a dystopian future.\"\n",
    "response = client.chat.completions.create(\n",
    "    messages=[{\"role\": \"user\", \"content\": prompt}],\n",
    "    model=\"gpt-3.5-turbo\",\n",
    ")\n",
    "\n",
    "output_gpt = response.choices[0].message.content\n",
    "print(output_gpt)"
   ]
  },
  {
   "cell_type": "markdown",
   "id": "57d9fea0-a17c-40e4-a893-8e30334d6bf2",
   "metadata": {},
   "source": [
    "### 2. Code Debugging and Suggestions (Using GPT-4)\n",
    "\n",
    "#### Use Case:\n",
    "\n",
    "- Helping programmers debug code or suggesting improvements to existing code.\n",
    "- Useful for software developers and coding enthusiasts."
   ]
  },
  {
   "cell_type": "code",
   "execution_count": 21,
   "id": "d304cee1-490c-4c69-876d-133c3e8b6488",
   "metadata": {
    "tags": []
   },
   "outputs": [
    {
     "name": "stdout",
     "output_type": "stream",
     "text": [
      "The bug in your code is the variable name in the 'count' assignment line.\n",
      "There is a typo: Python is case sensitive and you declared your list argument as `numbers` and not `number`.\n",
      "\n",
      "To fix this bug, you should change `number` to `numbers` in the len(number) line. The corrected code is:\n",
      "\n",
      "```python\n",
      "def calculate_average(numbers:list):\n",
      "    total_sum = sum(numbers)\n",
      "    count = len(numbers)\n",
      "    average = total_sum / count\n",
      "    return average\n",
      "```\n"
     ]
    }
   ],
   "source": [
    "### Prompt Engineering:\n",
    "\n",
    "prompt = \"\"\"Here is a Python function with a bug. Can you identify the bug and suggest a correction?\n",
    "\n",
    "def calculate_average(numbers:list):\n",
    "    total_sum = sum(numbers)\n",
    "    count = len(number)\n",
    "    average = total_sum / count\n",
    "    return average\"\"\"\n",
    "\n",
    "response = client.chat.completions.create(\n",
    "    messages=[{\"role\": \"user\", \"content\": prompt}],\n",
    "    model=\"gpt-4\",\n",
    ")\n",
    "\n",
    "output_gpt = response.choices[0].message.content\n",
    "print(output_gpt)"
   ]
  },
  {
   "cell_type": "markdown",
   "id": "1dcc1844-5d43-4784-bf18-7c8f1f05398e",
   "metadata": {},
   "source": [
    "### 3. Language Translation (Using GPT-4)\n",
    "\n",
    "#### Use Case:\n",
    "\n",
    "- Translating text from one language to another.\n",
    "- Useful for translators, international businesses, or travelers."
   ]
  },
  {
   "cell_type": "code",
   "execution_count": 22,
   "id": "dc45c6d3-0acf-473a-9aab-87070492e7ea",
   "metadata": {
    "tags": []
   },
   "outputs": [
    {
     "name": "stdout",
     "output_type": "stream",
     "text": [
      "Hei, hvordan har du det i dag?\n"
     ]
    }
   ],
   "source": [
    "### Prompt Engineering:\n",
    "\n",
    "prompt = \"Translate the following text from English to Norwegian: 'Hello, how are you today?'\"\n",
    "response = client.chat.completions.create(\n",
    "    messages=[{\"role\": \"user\", \"content\": prompt}],\n",
    "    model=\"gpt-4\",\n",
    ")\n",
    "\n",
    "output_gpt = response.choices[0].message.content\n",
    "print(output_gpt)"
   ]
  },
  {
   "cell_type": "markdown",
   "id": "be0965c9-6618-448c-8b24-8563083897c8",
   "metadata": {},
   "source": [
    "### 4. Educational Content Creation (Using GPT-4)\n",
    "### Use Case:\n",
    "- Generating educational content or explanations on various topics.\n",
    "- Ideal for educators, students, or e-learning platforms."
   ]
  },
  {
   "cell_type": "code",
   "execution_count": 23,
   "id": "46d95581-caea-49ac-865d-43041446467b",
   "metadata": {
    "tags": []
   },
   "outputs": [
    {
     "name": "stdout",
     "output_type": "stream",
     "text": [
      "Photosynthesis is a process used by plants, algae and some bacteria to make their own food. These organisms can do this because they contain a green pigment called chlorophyll, which is used to capture the energy from the Sun needed for this process.\n",
      "\n",
      "Here's how it works:\n",
      "\n",
      "1. The plant takes in carbon dioxide from the air and water from the roots in the soil.\n",
      "\n",
      "2. Inside the parts of the plant known as chloroplasts, these materials get exposed to sunlight. \n",
      "\n",
      "3. Using the energy from the Sun, the plant transforms the carbon dioxide and water into glucose (a type of sugar), which helps the plant to grow. This process is the equivalent of the plant making its own food. \n",
      "\n",
      "4. Oxygen is also produced in this process and released back into the air, which is beneficial for us because it's the air we humans need to breathe.\n",
      "\n",
      "So, in simple terms, photosynthesis is how plants make their own food using sunlight, water and carbon dioxide, while also producing oxygen in the process.\n"
     ]
    }
   ],
   "source": [
    "### Prompt Engineering:\n",
    "\n",
    "prompt = \"Explain the concept of photosynthesis in simple terms for a middle school science class.\"\n",
    "response = client.chat.completions.create(\n",
    "    messages=[{\"role\": \"user\", \"content\": prompt}],\n",
    "    model=\"gpt-4\",\n",
    ")\n",
    "\n",
    "output_gpt = response.choices[0].message.content\n",
    "print(output_gpt)"
   ]
  },
  {
   "cell_type": "markdown",
   "id": "91ff6b1b-6566-44f2-985d-ae4f9cbfa059",
   "metadata": {},
   "source": [
    "*Each of these examples demonstrates how to tailor prompts to specific tasks and choose the most suitable GPT model. Remember, the quality of the output heavily depends on how well the prompt is constructed and the context provided.*"
   ]
  },
  {
   "cell_type": "markdown",
   "id": "718d59e9-5c5a-46a1-aaef-ad87f8ae1a2a",
   "metadata": {},
   "source": [
    "## Conclusion\n",
    "\n",
    "This tutorial has provided a comprehensive overview of how to interact with GPT models using the OpenAI API in Python. From setting up your environment and initializing the client to sending requests and interpreting responses, we've covered the fundamental aspects to get you started."
   ]
  },
  {
   "cell_type": "markdown",
   "id": "5faf7553-3c0c-42e1-a9ef-2856db7f22b0",
   "metadata": {},
   "source": [
    "### Key Takeaways\n",
    "\n",
    "- **Environment Setup:** Importance of securely managing your API key using environment variables.\n",
    "- **Understanding GPT Models:** Insight into various models like GPT-4 and GPT-3.5, their capabilities, and how to choose the right one for your task.\n",
    "- **Prompt Engineering:** The art of crafting effective prompts to elicit the best responses from the model.\n",
    "- **Interpreting Responses:** How to handle and make sense of the output provided by GPT models.\n",
    "- **Best Practices:** Guidelines on prompt design, model limitations, rate limits, cost management, and ethical considerations.\n",
    "- **Example Use Cases:** Practical examples demonstrating the application of GPT models in different scenarios."
   ]
  },
  {
   "cell_type": "markdown",
   "id": "0bdd2bf1-504b-4eaa-932f-5049350eafb2",
   "metadata": {},
   "source": [
    "The potential of GPT models in various applications is vast and exploring these capabilities can be both challenging and rewarding. We hope this tutorial has provided you with a solid foundation to begin utilizing these powerful models in your projects.\n",
    "\n",
    "Remember, the journey into AI and machine learning is continuous, and there's always more to learn and discover!\n",
    "\n",
    "[OpenAI Models Documentation](https://platform.openai.com/docs/models)."
   ]
  }
 ],
 "metadata": {
  "kernelspec": {
   "display_name": "Python 3 (ipykernel)",
   "language": "python",
   "name": "python3"
  },
  "language_info": {
   "codemirror_mode": {
    "name": "ipython",
    "version": 3
   },
   "file_extension": ".py",
   "mimetype": "text/x-python",
   "name": "python",
   "nbconvert_exporter": "python",
   "pygments_lexer": "ipython3",
   "version": "3.11.3"
  }
 },
 "nbformat": 4,
 "nbformat_minor": 5
}
